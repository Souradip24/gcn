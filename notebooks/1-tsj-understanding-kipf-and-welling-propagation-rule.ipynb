{
 "cells": [
  {
   "cell_type": "markdown",
   "metadata": {},
   "source": [
    "# Investigation of the Kipf and Welling Propagation Rule\n",
    "Read below sources for context.\n",
    " - Blog post by Kipf: https://tkipf.github.io/graph-convolutional-networks/\n",
    " - Paper on arXiv: https://arxiv.org/pdf/1609.02907.pdf"
   ]
  },
  {
   "cell_type": "code",
   "execution_count": 1,
   "metadata": {},
   "outputs": [],
   "source": [
    "from pprint import pprint\n",
    "import numpy as np\n",
    "from scipy.linalg import fractional_matrix_power\n",
    "\n",
    "def power(matrix, fraction):\n",
    "    return np.matrix(fractional_matrix_power(matrix, fraction))"
   ]
  },
  {
   "cell_type": "code",
   "execution_count": 2,
   "metadata": {},
   "outputs": [
    {
     "data": {
      "text/plain": [
       "matrix([[0., 1., 0., 0.],\n",
       "        [0., 0., 1., 1.],\n",
       "        [0., 1., 0., 0.],\n",
       "        [1., 0., 1., 0.]])"
      ]
     },
     "execution_count": 2,
     "metadata": {},
     "output_type": "execute_result"
    }
   ],
   "source": [
    "A = np.matrix([\n",
    "    [0, 1, 0, 0],\n",
    "    [0, 0, 1, 1], \n",
    "    [0, 1, 0, 0],\n",
    "    [1, 0, 1, 0]],\n",
    "    dtype=float\n",
    ")\n",
    "A"
   ]
  },
  {
   "cell_type": "code",
   "execution_count": 3,
   "metadata": {},
   "outputs": [
    {
     "data": {
      "image/png": "[encoded data removed]",
      "text/plain": [
       "<Figure size 432x288 with 1 Axes>"
      ]
     },
     "metadata": {
      "needs_background": "light"
     },
     "output_type": "display_data"
    }
   ],
   "source": [
    "%matplotlib inline\n",
    "from matplotlib import pyplot as plt\n",
    "from networkx import (\n",
    "    from_numpy_matrix, DiGraph,\n",
    "    draw_networkx_nodes, draw_networkx_labels, \n",
    "    draw_networkx_edges,\n",
    "    spring_layout)\n",
    "\n",
    "G = from_numpy_matrix(A, create_using=DiGraph())\n",
    "pos = spring_layout(G)\n",
    "\n",
    "draw_networkx_nodes(G, pos, node_color='lightblue')\n",
    "draw_networkx_edges(G,pos,width=1.0,alpha=0.5)\n",
    "\n",
    "labels = dict(zip(G.nodes(), G.nodes()))\n",
    "draw_networkx_labels(G, pos, labels, font_size=12)\n",
    "plt.axis('off')\n",
    "plt.savefig('../reports/figures/simple_graph.png')"
   ]
  },
  {
   "cell_type": "code",
   "execution_count": 4,
   "metadata": {},
   "outputs": [
    {
     "data": {
      "text/plain": [
       "matrix([[ 0.,  0.],\n",
       "        [ 1., -1.],\n",
       "        [ 2., -2.],\n",
       "        [ 3., -3.]])"
      ]
     },
     "execution_count": 4,
     "metadata": {},
     "output_type": "execute_result"
    }
   ],
   "source": [
    "X = np.matrix([\n",
    "    [i, -i]\n",
    "    for i in range(A.shape[0])\n",
    "], dtype=float)\n",
    "X"
   ]
  },
  {
   "cell_type": "code",
   "execution_count": 5,
   "metadata": {},
   "outputs": [
    {
     "data": {
      "text/plain": [
       "matrix([[1., 0., 0., 0.],\n",
       "        [0., 1., 0., 0.],\n",
       "        [0., 0., 1., 0.],\n",
       "        [0., 0., 0., 1.]])"
      ]
     },
     "execution_count": 5,
     "metadata": {},
     "output_type": "execute_result"
    }
   ],
   "source": [
    "I = np.matrix(np.eye(A.shape[0]))\n",
    "I"
   ]
  },
  {
   "cell_type": "markdown",
   "metadata": {},
   "source": [
    "# Naive Propagation Rule\n",
    "Represents a node as the **sum** of neighboring (connected by an in edge) nodes' features."
   ]
  },
  {
   "cell_type": "code",
   "execution_count": 6,
   "metadata": {},
   "outputs": [
    {
     "data": {
      "text/plain": [
       "matrix([[0., 1., 0., 0.],\n",
       "        [0., 0., 1., 1.],\n",
       "        [0., 1., 0., 0.],\n",
       "        [1., 0., 1., 0.]])"
      ]
     },
     "execution_count": 6,
     "metadata": {},
     "output_type": "execute_result"
    }
   ],
   "source": [
    "A"
   ]
  },
  {
   "cell_type": "code",
   "execution_count": 7,
   "metadata": {},
   "outputs": [
    {
     "name": "stdout",
     "output_type": "stream",
     "text": [
      "matrix([[ 0.,  0.],\n",
      "        [ 1., -1.],\n",
      "        [ 2., -2.],\n",
      "        [ 3., -3.]])\n"
     ]
    },
    {
     "data": {
      "text/plain": [
       "matrix([[ 1., -1.],\n",
       "        [ 5., -5.],\n",
       "        [ 1., -1.],\n",
       "        [ 2., -2.]])"
      ]
     },
     "execution_count": 7,
     "metadata": {},
     "output_type": "execute_result"
    }
   ],
   "source": [
    "pprint(X)\n",
    "A * X"
   ]
  },
  {
   "cell_type": "markdown",
   "metadata": {},
   "source": [
    "## Add Self Loop\n",
    "Equivalent to the above, but the node's own features is always included in the sum."
   ]
  },
  {
   "cell_type": "code",
   "execution_count": 8,
   "metadata": {},
   "outputs": [
    {
     "name": "stdout",
     "output_type": "stream",
     "text": [
      "matrix([[ 0.,  0.],\n",
      "        [ 1., -1.],\n",
      "        [ 2., -2.],\n",
      "        [ 3., -3.]])\n"
     ]
    },
    {
     "data": {
      "text/plain": [
       "matrix([[ 1., -1.],\n",
       "        [ 6., -6.],\n",
       "        [ 3., -3.],\n",
       "        [ 5., -5.]])"
      ]
     },
     "execution_count": 8,
     "metadata": {},
     "output_type": "execute_result"
    }
   ],
   "source": [
    "pprint(X)\n",
    "A_hat = A + I\n",
    "A_hat * X"
   ]
  },
  {
   "cell_type": "markdown",
   "metadata": {},
   "source": [
    "# Normalized Propagation\n",
    "Normalizes the features by node degree. Represents a node as the **mean** of neighboring (connected by an in edge) nodes' features. "
   ]
  },
  {
   "cell_type": "code",
   "execution_count": 9,
   "metadata": {},
   "outputs": [
    {
     "data": {
      "text/plain": [
       "matrix([[1., 0., 0., 0.],\n",
       "        [0., 2., 0., 0.],\n",
       "        [0., 0., 2., 0.],\n",
       "        [0., 0., 0., 1.]])"
      ]
     },
     "execution_count": 9,
     "metadata": {},
     "output_type": "execute_result"
    }
   ],
   "source": [
    "# Compute Degree Matrix\n",
    "D = np.array(np.sum(A, axis=0))[0]\n",
    "D = np.matrix(np.diag(D))\n",
    "D"
   ]
  },
  {
   "cell_type": "code",
   "execution_count": 10,
   "metadata": {},
   "outputs": [
    {
     "data": {
      "text/plain": [
       "matrix([[0. , 1. , 0. , 0. ],\n",
       "        [0. , 0. , 0.5, 0.5],\n",
       "        [0. , 0.5, 0. , 0. ],\n",
       "        [1. , 0. , 1. , 0. ]])"
      ]
     },
     "execution_count": 10,
     "metadata": {},
     "output_type": "execute_result"
    }
   ],
   "source": [
    "D**-1 * A"
   ]
  },
  {
   "cell_type": "code",
   "execution_count": 11,
   "metadata": {},
   "outputs": [
    {
     "name": "stdout",
     "output_type": "stream",
     "text": [
      "matrix([[ 0.,  0.],\n",
      "        [ 1., -1.],\n",
      "        [ 2., -2.],\n",
      "        [ 3., -3.]])\n"
     ]
    },
    {
     "data": {
      "text/plain": [
       "matrix([[ 1. , -1. ],\n",
       "        [ 2.5, -2.5],\n",
       "        [ 0.5, -0.5],\n",
       "        [ 2. , -2. ]])"
      ]
     },
     "execution_count": 11,
     "metadata": {},
     "output_type": "execute_result"
    }
   ],
   "source": [
    "pprint(X)\n",
    "D**-1 * A * X"
   ]
  },
  {
   "cell_type": "markdown",
   "metadata": {},
   "source": [
    "## Add Self Loop\n",
    "Equivalent to the above, but the node's own features is always included in the mean."
   ]
  },
  {
   "cell_type": "code",
   "execution_count": 12,
   "metadata": {},
   "outputs": [
    {
     "data": {
      "text/plain": [
       "matrix([[2., 0., 0., 0.],\n",
       "        [0., 3., 0., 0.],\n",
       "        [0., 0., 3., 0.],\n",
       "        [0., 0., 0., 2.]])"
      ]
     },
     "execution_count": 12,
     "metadata": {},
     "output_type": "execute_result"
    }
   ],
   "source": [
    "D_hat = np.array(np.sum(A_hat, axis=0))[0]\n",
    "D_hat = np.matrix(np.diag(D_hat))\n",
    "D_hat"
   ]
  },
  {
   "cell_type": "code",
   "execution_count": 13,
   "metadata": {},
   "outputs": [
    {
     "data": {
      "text/plain": [
       "matrix([[0.5       , 0.5       , 0.        , 0.        ],\n",
       "        [0.        , 0.33333333, 0.33333333, 0.33333333],\n",
       "        [0.        , 0.33333333, 0.33333333, 0.        ],\n",
       "        [0.5       , 0.        , 0.5       , 0.5       ]])"
      ]
     },
     "execution_count": 13,
     "metadata": {},
     "output_type": "execute_result"
    }
   ],
   "source": [
    "D_hat**-1 * A_hat"
   ]
  },
  {
   "cell_type": "code",
   "execution_count": 14,
   "metadata": {},
   "outputs": [
    {
     "name": "stdout",
     "output_type": "stream",
     "text": [
      "matrix([[ 0.,  0.],\n",
      "        [ 1., -1.],\n",
      "        [ 2., -2.],\n",
      "        [ 3., -3.]])\n"
     ]
    },
    {
     "data": {
      "text/plain": [
       "matrix([[ 0.5, -0.5],\n",
       "        [ 2. , -2. ],\n",
       "        [ 1. , -1. ],\n",
       "        [ 2.5, -2.5]])"
      ]
     },
     "execution_count": 14,
     "metadata": {},
     "output_type": "execute_result"
    }
   ],
   "source": [
    "pprint(X)\n",
    "D_hat**-1 * A_hat * X"
   ]
  },
  {
   "cell_type": "markdown",
   "metadata": {},
   "source": [
    "# Symmetric Normalization\n",
    "Represents a node as a **weighted sum** of neighboring (connected by an in edge) nodes' features. The weight of a neighbor $n$ of $v$ is $\\deg(v)^{0.5} \\cdot \\deg(n)^{0.5}$."
   ]
  },
  {
   "cell_type": "code",
   "execution_count": 24,
   "metadata": {},
   "outputs": [
    {
     "name": "stdout",
     "output_type": "stream",
     "text": [
      "matrix([[0., 1., 0., 0.],\n",
      "        [0., 0., 1., 1.],\n",
      "        [0., 1., 0., 0.],\n",
      "        [1., 0., 1., 0.]])\n",
      "matrix([[1., 0., 0., 0.],\n",
      "        [0., 2., 0., 0.],\n",
      "        [0., 0., 2., 0.],\n",
      "        [0., 0., 0., 1.]])\n"
     ]
    },
    {
     "data": {
      "text/plain": [
       "matrix([[1.        , 0.        , 0.        , 0.        ],\n",
       "        [0.        , 0.70710678, 0.        , 0.        ],\n",
       "        [0.        , 0.        , 0.70710678, 0.        ],\n",
       "        [0.        , 0.        , 0.        , 1.        ]])"
      ]
     },
     "execution_count": 24,
     "metadata": {},
     "output_type": "execute_result"
    }
   ],
   "source": [
    "pprint(A)\n",
    "pprint(D)\n",
    "power(D, -0.5)"
   ]
  },
  {
   "cell_type": "code",
   "execution_count": 16,
   "metadata": {},
   "outputs": [
    {
     "data": {
      "text/plain": [
       "matrix([[0.        , 1.        , 0.        , 0.        ],\n",
       "        [0.        , 0.        , 0.70710678, 0.70710678],\n",
       "        [0.        , 0.70710678, 0.        , 0.        ],\n",
       "        [1.        , 0.        , 1.        , 0.        ]])"
      ]
     },
     "execution_count": 16,
     "metadata": {},
     "output_type": "execute_result"
    }
   ],
   "source": [
    "power(D, -0.5) * A # Apply weight for own degree"
   ]
  },
  {
   "cell_type": "code",
   "execution_count": 17,
   "metadata": {},
   "outputs": [
    {
     "data": {
      "text/plain": [
       "matrix([[0.        , 0.70710678, 0.        , 0.        ],\n",
       "        [0.        , 0.        , 0.5       , 0.70710678],\n",
       "        [0.        , 0.5       , 0.        , 0.        ],\n",
       "        [1.        , 0.        , 0.70710678, 0.        ]])"
      ]
     },
     "execution_count": 17,
     "metadata": {},
     "output_type": "execute_result"
    }
   ],
   "source": [
    "power(D, -0.5) * A * power(D, -0.5) # Apply weight for neighbor degree"
   ]
  },
  {
   "cell_type": "code",
   "execution_count": 18,
   "metadata": {},
   "outputs": [
    {
     "name": "stdout",
     "output_type": "stream",
     "text": [
      "matrix([[0.        , 1.        , 0.        , 0.        ],\n",
      "        [0.        , 0.        , 0.70710678, 0.70710678],\n",
      "        [0.        , 0.70710678, 0.        , 0.        ],\n",
      "        [1.        , 0.        , 1.        , 0.        ]])\n",
      "matrix([[0.        , 0.70710678, 0.        , 0.        ],\n",
      "        [0.        , 0.        , 0.5       , 0.70710678],\n",
      "        [0.        , 0.5       , 0.        , 0.        ],\n",
      "        [1.        , 0.        , 0.70710678, 0.        ]])\n"
     ]
    }
   ],
   "source": [
    "pprint(power(D, -0.5) * A) # Apply weight for own degree\n",
    "pprint(power(D, -0.5) * A * power(D, -0.5)) # Apply weight for neighbor degree"
   ]
  },
  {
   "cell_type": "code",
   "execution_count": 19,
   "metadata": {},
   "outputs": [
    {
     "name": "stdout",
     "output_type": "stream",
     "text": [
      "matrix([[0. , 1. , 0. , 0. ],\n",
      "        [0. , 0. , 0.5, 0.5],\n",
      "        [0. , 0.5, 0. , 0. ],\n",
      "        [1. , 0. , 1. , 0. ]])\n",
      "matrix([[0.        , 0.84089642, 0.        , 0.        ],\n",
      "        [0.        , 0.        , 0.5       , 0.59460356],\n",
      "        [0.        , 0.5       , 0.        , 0.        ],\n",
      "        [1.        , 0.        , 0.84089642, 0.        ]])\n",
      "matrix([[0.        , 0.59460356, 0.        , 0.        ],\n",
      "        [0.        , 0.        , 0.5       , 0.84089642],\n",
      "        [0.        , 0.5       , 0.        , 0.        ],\n",
      "        [1.        , 0.        , 0.59460356, 0.        ]])\n",
      "matrix([[0. , 1. , 0. , 0. ],\n",
      "        [0. , 0. , 0.5, 0.5],\n",
      "        [0. , 0.5, 0. , 0. ],\n",
      "        [1. , 0. , 1. , 0. ]])\n"
     ]
    }
   ],
   "source": [
    "pprint(D**-1 * A)\n",
    "pprint(power(D, -0.75) * A * power(D, -0.25)) # Importance of neighbor degree decreases\n",
    "pprint(power(D, -0.25) * A * power(D, -0.75)) # Importance of neighbor degree increases\n",
    "pprint(power(D, -1.0) * A * power(D, -0.0)) # Is a generalization of asymmetric normalization"
   ]
  },
  {
   "cell_type": "code",
   "execution_count": 20,
   "metadata": {},
   "outputs": [
    {
     "name": "stdout",
     "output_type": "stream",
     "text": [
      "matrix([[ 0.,  0.],\n",
      "        [ 1., -1.],\n",
      "        [ 2., -2.],\n",
      "        [ 3., -3.]])\n"
     ]
    },
    {
     "data": {
      "text/plain": [
       "matrix([[ 0.70710678, -0.70710678],\n",
       "        [ 3.12132034, -3.12132034],\n",
       "        [ 0.5       , -0.5       ],\n",
       "        [ 1.41421356, -1.41421356]])"
      ]
     },
     "execution_count": 20,
     "metadata": {},
     "output_type": "execute_result"
    }
   ],
   "source": [
    "pprint(X)\n",
    "power(D, -0.5) * A * power(D, -0.5) * X"
   ]
  },
  {
   "cell_type": "markdown",
   "metadata": {},
   "source": [
    "##  Add Self Loops"
   ]
  },
  {
   "cell_type": "code",
   "execution_count": 21,
   "metadata": {},
   "outputs": [
    {
     "data": {
      "text/plain": [
       "matrix([[0.5       , 0.40824829, 0.        , 0.        ],\n",
       "        [0.        , 0.33333333, 0.33333333, 0.40824829],\n",
       "        [0.        , 0.33333333, 0.33333333, 0.        ],\n",
       "        [0.5       , 0.        , 0.40824829, 0.5       ]])"
      ]
     },
     "execution_count": 21,
     "metadata": {},
     "output_type": "execute_result"
    }
   ],
   "source": [
    "power(D_hat, -0.5) * A_hat * power(D_hat, -0.5)"
   ]
  },
  {
   "cell_type": "code",
   "execution_count": 22,
   "metadata": {},
   "outputs": [
    {
     "name": "stdout",
     "output_type": "stream",
     "text": [
      "matrix([[ 0.,  0.],\n",
      "        [ 1., -1.],\n",
      "        [ 2., -2.],\n",
      "        [ 3., -3.]])\n"
     ]
    },
    {
     "data": {
      "text/plain": [
       "matrix([[ 0.40824829, -0.40824829],\n",
       "        [ 2.22474487, -2.22474487],\n",
       "        [ 1.        , -1.        ],\n",
       "        [ 2.31649658, -2.31649658]])"
      ]
     },
     "execution_count": 22,
     "metadata": {},
     "output_type": "execute_result"
    }
   ],
   "source": [
    "pprint(X)\n",
    "power(D_hat, -0.5) * A_hat * power(D_hat, -0.5) * X"
   ]
  },
  {
   "cell_type": "code",
   "execution_count": 23,
   "metadata": {},
   "outputs": [
    {
     "data": {
      "text/plain": [
       "matrix([[ 0.40824829, -0.40824829],\n",
       "        [ 2.22474487, -2.22474487],\n",
       "        [ 1.        , -1.        ],\n",
       "        [ 2.31649658, -2.31649658]])"
      ]
     },
     "execution_count": 23,
     "metadata": {},
     "output_type": "execute_result"
    }
   ],
   "source": [
    "power(D_hat, -0.5) * A_hat * power(D_hat, -0.5) * X * np.matrix([[1, -1], [0, 0]])"
   ]
  },
  {
   "cell_type": "code",
   "execution_count": null,
   "metadata": {},
   "outputs": [],
   "source": []
  }
 ],
 "metadata": {
  "kernelspec": {
   "display_name": "gcn",
   "language": "python",
   "name": "gcn"
  },
  "language_info": {
   "codemirror_mode": {
    "name": "ipython",
    "version": 3
   },
   "file_extension": ".py",
   "mimetype": "text/x-python",
   "name": "python",
   "nbconvert_exporter": "python",
   "pygments_lexer": "ipython3",
   "version": "3.6.4"
  }
 },
 "nbformat": 4,
 "nbformat_minor": 2
}
